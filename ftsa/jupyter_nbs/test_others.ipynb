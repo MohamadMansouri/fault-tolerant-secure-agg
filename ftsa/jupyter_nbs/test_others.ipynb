{
 "cells": [
  {
   "cell_type": "markdown",
   "metadata": {},
   "source": [
    "# Function Secret Sharing (FSS)\n",
    "### Function secret sharing is a scheme to share a function $f_s(x): H(x)^s$\n",
    "The value $s$ is a secret the defines the secret function. It is first shared using Shamir secret sharing. Then, each share holder (for a given $x$) can evaluate a partial result of the function $f_s(x)$. The partial results can be combined to contruct the value of $H(x)^s$.\n",
    "\n",
    "This demo shows how can we share a secret function and recompute its results in a distributed way. It also shows the homomorphic property: $f_{s_1+s_2}(x) = f_{s_1}(x) \\cdot f_{s_2}(x)$. Specifically, by summing the shares of two secret functions, we can evaluate the result of the multiplication of these functions"
   ]
  },
  {
   "cell_type": "code",
   "execution_count": 4,
   "metadata": {},
   "outputs": [],
   "source": [
    "from ftsa.protocols.buildingblocks.FunctionSS import FSS, FShare\n",
    "from ftsa.protocols.buildingblocks.JoyeLibert import JLS\n",
    "from ftsa.protocols.buildingblocks.utils import powmod\n",
    "import random\n",
    "from math import factorial\n",
    "\n",
    "threshold = 70\n",
    "nclients  = 100\n",
    "inputsize = 16\n",
    "dimension = 1\n",
    "keylength = 1024\n",
    "\n",
    "JL = JLS(nclients)\n",
    "pp,_,_ = JL.Setup()"
   ]
  },
  {
   "cell_type": "code",
   "execution_count": 5,
   "metadata": {},
   "outputs": [],
   "source": [
    "# create two secret functions\n",
    "s1 = random.SystemRandom().getrandbits(keylength) \n",
    "s2 = random.SystemRandom().getrandbits(keylength)\n",
    "s = s1+s2\n",
    "\n",
    "# initialize the FSS scheme\n",
    "FS = FSS(keylength, pp.n)\n",
    "\n",
    "\n",
    "# share two secrets\n",
    "allshares1 = FS.share(threshold, nclients, s1)\n",
    "allshares2 = FS.share(threshold, nclients, s2)\n",
    "\n",
    "# pick a threshold number of shares randomly \n",
    "random.seed(1)\n",
    "shares1 = random.sample(allshares1, threshold)\n",
    "random.seed(1)\n",
    "shares2 = random.sample(allshares2, threshold)\n",
    "\n",
    "# compute the sum of the picked shares \n",
    "shares = [x+y for x,y in zip(shares1, shares2)]"
   ]
  },
  {
   "cell_type": "code",
   "execution_count": 6,
   "metadata": {},
   "outputs": [
    {
     "name": "stdout",
     "output_type": "stream",
     "text": [
      "Verify f_s1(t):  True\n",
      "Verify f_s2(t):  True\n",
      "Verify f_{s1+s2}(t):  True\n"
     ]
    }
   ],
   "source": [
    "\n",
    "# pick a random t to evaluate the function on\n",
    "t = random.randint(0,2**16-1)\n",
    "\n",
    "# evaluate the function on t: f_s(t)  using each share\n",
    "evalsahres1 = [s.eval(t) for s in shares1]\n",
    "evalsahres2 = [s.eval(t) for s in shares2]\n",
    "evalsahres = [s.eval(t) for s in shares]\n",
    "\n",
    "delta = factorial(nclients)\n",
    "\n",
    "# reconstruct the results of f_s(t) \n",
    "lagcoef = FS.lagrange(shares1, delta)\n",
    "reconstucted1 =  FS.recon(evalsahres1, delta, lagcoef)\n",
    "reconstucted2 =  FS.recon(evalsahres2, delta, lagcoef)\n",
    "reconstucted =  FS.recon(evalsahres, delta, lagcoef)\n",
    "\n",
    "# check if the reconstructed values match the result of function f_s(t)\n",
    "\n",
    "print(\"Verify f_s1(t): \", powmod(FShare.H(t), s1 * delta,pp.nsquare)  == reconstucted1 )\n",
    "print(\"Verify f_s2(t): \", powmod(FShare.H(t), s2 * delta,pp.nsquare) == reconstucted2)\n",
    "print(\"Verify f_{s1+s2}(t): \", powmod(FShare.H(t), (s1+s2) * delta,pp.nsquare) == reconstucted)\n"
   ]
  },
  {
   "cell_type": "markdown",
   "metadata": {},
   "source": [
    "### Vector Function Secret Sharing (VFSS)\n",
    "This is the same as FSS except that we share a function that outputs a vector $g_s(x, v) : [H(x||0)^s, H(x||1)^s, ...,  H(x||v)^s]$ "
   ]
  },
  {
   "cell_type": "code",
   "execution_count": 7,
   "metadata": {},
   "outputs": [
    {
     "name": "stdout",
     "output_type": "stream",
     "text": [
      "Verify f_s1(t):  True\n",
      "Verify f_s2(t):  True\n",
      "Verify f_{s1+s2}(t):  True\n"
     ]
    }
   ],
   "source": [
    "vsize = 10\n",
    "\n",
    "# pick a random t to evaluate the function on\n",
    "t = random.randint(0,2**16-1)\n",
    "\n",
    "# evaluate the function on t: f_s(t)  using each share\n",
    "evalsahresv1 = [s.eval_vector(t, vsize) for s in shares1]\n",
    "evalsahresv2 = [s.eval_vector(t, vsize) for s in shares2]\n",
    "evalsahresv = [s.eval_vector(t, vsize) for s in shares]\n",
    "\n",
    "delta = factorial(nclients)\n",
    "\n",
    "# reconstruct the results of f_s(t) \n",
    "lagcoef = FS.lagrange(shares1, delta)\n",
    "reconstucted1 =  FS.recon_vector(evalsahresv1, delta, lagcoef)\n",
    "reconstucted2 =  FS.recon_vector(evalsahresv2, delta, lagcoef)\n",
    "reconstucted =  FS.recon_vector(evalsahresv, delta, lagcoef)\n",
    "\n",
    "# check if the reconstructed values match the result of function f_s(t)\n",
    "valid = True\n",
    "Y1 = []\n",
    "Y2 = []\n",
    "Y = []\n",
    "for i in range(len(reconstucted1)):\n",
    "    h = FShare.H((i << keylength // 4) | t)\n",
    "    Y1.append(powmod(h, s1 * delta,pp.nsquare))\n",
    "    Y2.append(powmod(h, s2 * delta,pp.nsquare))\n",
    "    Y.append(powmod(h, s * delta,pp.nsquare))\n",
    "\n",
    "print(\"Verify f_s1(t): \", Y1  == reconstucted1 )\n",
    "print(\"Verify f_s2(t): \", Y2 == reconstucted2)\n",
    "print(\"Verify f_{s1+s2}(t): \", Y == reconstucted)\n"
   ]
  }
 ],
 "metadata": {
  "interpreter": {
   "hash": "4f27cced53c47ba5545c0729b39b211c565a1a89df4a8f7415701fc2fd865834"
  },
  "kernelspec": {
   "display_name": "Python 3.10.1 ('.venv': venv)",
   "language": "python",
   "name": "python3"
  },
  "language_info": {
   "codemirror_mode": {
    "name": "ipython",
    "version": 3
   },
   "file_extension": ".py",
   "mimetype": "text/x-python",
   "name": "python",
   "nbconvert_exporter": "python",
   "pygments_lexer": "ipython3",
   "version": "3.10.1"
  },
  "orig_nbformat": 4
 },
 "nbformat": 4,
 "nbformat_minor": 2
}
