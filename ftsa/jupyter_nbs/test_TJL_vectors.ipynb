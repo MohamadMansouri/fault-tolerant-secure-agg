{
 "cells": [
  {
   "cell_type": "markdown",
   "metadata": {},
   "source": [
    "# Threshold Joye-Libert Secure Aggregation"
   ]
  },
  {
   "cell_type": "code",
   "execution_count": 59,
   "metadata": {},
   "outputs": [
    {
     "name": "stdout",
     "output_type": "stream",
     "text": [
      "users:  [1, 2, 3, 4, 5, 6, 7, 8, 9, 10]\n",
      "alive:  [1, 2, 3, 4, 5, 6, 7]\n",
      "dropped:  [8, 9, 10]\n"
     ]
    }
   ],
   "source": [
    "from ftsa.protocols.buildingblocks.JoyeLibert import TJLS\n",
    "from ftsa.protocols.buildingblocks.VectorEncoding import VES\n",
    "import random\n",
    "\n",
    "t = 412\n",
    "threshold = 7\n",
    "nclients = 10\n",
    "drops = 3\n",
    "keysize = 2048 \n",
    "inputsize = 16\n",
    "dimension = 10\n",
    "\n",
    "users = list(range(1, nclients+1))\n",
    "alive = list(range(1, nclients-drops+1))\n",
    "dropped = list(range(nclients-drops+1,nclients+1))\n",
    "\n",
    "\n",
    "VE = VES(keysize // 2, nclients, inputsize, dimension)\n",
    "TJL = TJLS(nclients, threshold, VE)\n",
    "\n",
    "print(\"users: \", users)\n",
    "print(\"alive: \", alive)\n",
    "print(\"dropped: \", dropped)"
   ]
  },
  {
   "cell_type": "markdown",
   "metadata": {},
   "source": [
    "### Generate JL keys (**Setup**)"
   ]
  },
  {
   "cell_type": "code",
   "execution_count": 60,
   "metadata": {},
   "outputs": [
    {
     "name": "stdout",
     "output_type": "stream",
     "text": [
      " - Public Parameters: <PublicParam (N=16075...03397, H(x)=0x7bbc)>\n",
      " - Aggregator Key: <ServerKey -0xbf6c1da>\n",
      " - User Keys: {0: <UserKey 0xac1de96f>, 1: <UserKey 0x17959e69>, 2: <UserKey 0xf71e793d>, 3: <UserKey 0x1892e4e2>, 4: <UserKey 0x14a07bab>, 5: <UserKey 0x1b84d79f>, 6: <UserKey 0x1e1df8a4>, 7: <UserKey 0x1087ecc4>, 8: <UserKey 0x176e5601>, 9: <UserKey 0x1f1b0b93>}\n"
     ]
    }
   ],
   "source": [
    "# generate keys\n",
    "pp, skey, ukey = TJL.Setup(keysize)\n",
    "\n",
    "print(\" - Public Parameters:\", pp)\n",
    "print(\" - Aggregator Key:\", skey)\n",
    "print(\" - User Keys:\", ukey)"
   ]
  },
  {
   "cell_type": "markdown",
   "metadata": {},
   "source": [
    "### Share the JL user key with all other users (**SKShare**)\n"
   ]
  },
  {
   "cell_type": "code",
   "execution_count": 61,
   "metadata": {},
   "outputs": [],
   "source": [
    "\n",
    "# share secret key of each user\n",
    "shares = {}\n",
    "for u in users: \n",
    "    shares[u] = TJL.SKShare(ukey[u-1],threshold, users)\n",
    "\n",
    "# distribute the shares\n",
    "from collections import defaultdict\n",
    "usersshares = defaultdict(dict)\n",
    "for v in users:\n",
    "    for u in users: \n",
    "        usersshares[u][v] = shares[v][u-1]"
   ]
  },
  {
   "cell_type": "markdown",
   "metadata": {},
   "source": [
    "### Protect inputs of alive users with the users' keys (**Protect**)"
   ]
  },
  {
   "cell_type": "code",
   "execution_count": 62,
   "metadata": {},
   "outputs": [
    {
     "data": {
      "text/plain": [
       "[[<EncryptedNumber 16866...57161>,\n",
       "  <EncryptedNumber 59212...60648>,\n",
       "  <EncryptedNumber 15081...65203>,\n",
       "  <EncryptedNumber 10905...26752>,\n",
       "  <EncryptedNumber 56722...95975>,\n",
       "  <EncryptedNumber 21518...06419>,\n",
       "  <EncryptedNumber 12068...55545>,\n",
       "  <EncryptedNumber 31834...15446>,\n",
       "  <EncryptedNumber 93719...39654>,\n",
       "  <EncryptedNumber 50089...87508>,\n",
       "  <EncryptedNumber 15092...51511>,\n",
       "  <EncryptedNumber 91780...35876>,\n",
       "  <EncryptedNumber 21916...31533>,\n",
       "  <EncryptedNumber 14922...89789>,\n",
       "  <EncryptedNumber 25175...41974>,\n",
       "  <EncryptedNumber 21130...02009>,\n",
       "  <EncryptedNumber 13932...39907>,\n",
       "  <EncryptedNumber 44120...47228>,\n",
       "  <EncryptedNumber 18696...64089>,\n",
       "  <EncryptedNumber 52405...21152>],\n",
       " [<EncryptedNumber 22987...05460>,\n",
       "  <EncryptedNumber 24104...55810>,\n",
       "  <EncryptedNumber 56595...78325>,\n",
       "  <EncryptedNumber 63626...30252>,\n",
       "  <EncryptedNumber 22688...47056>,\n",
       "  <EncryptedNumber 20071...74207>,\n",
       "  <EncryptedNumber 39318...43049>,\n",
       "  <EncryptedNumber 22658...52536>,\n",
       "  <EncryptedNumber 44735...37831>,\n",
       "  <EncryptedNumber 55384...29971>,\n",
       "  <EncryptedNumber 18672...78577>,\n",
       "  <EncryptedNumber 16814...01021>,\n",
       "  <EncryptedNumber 43924...99467>,\n",
       "  <EncryptedNumber 25685...59569>,\n",
       "  <EncryptedNumber 13664...75909>,\n",
       "  <EncryptedNumber 11943...81877>,\n",
       "  <EncryptedNumber 11026...04628>,\n",
       "  <EncryptedNumber 19859...24707>,\n",
       "  <EncryptedNumber 46977...26768>,\n",
       "  <EncryptedNumber 14593...80526>],\n",
       " [<EncryptedNumber 11814...69132>,\n",
       "  <EncryptedNumber 16826...06456>,\n",
       "  <EncryptedNumber 39784...98297>,\n",
       "  <EncryptedNumber 53239...10063>,\n",
       "  <EncryptedNumber 94432...85091>,\n",
       "  <EncryptedNumber 10864...06223>,\n",
       "  <EncryptedNumber 38683...85178>,\n",
       "  <EncryptedNumber 25816...38579>,\n",
       "  <EncryptedNumber 87915...49707>,\n",
       "  <EncryptedNumber 11001...48431>,\n",
       "  <EncryptedNumber 58318...57750>,\n",
       "  <EncryptedNumber 19769...56575>,\n",
       "  <EncryptedNumber 25594...18078>,\n",
       "  <EncryptedNumber 17772...01933>,\n",
       "  <EncryptedNumber 55556...20645>,\n",
       "  <EncryptedNumber 18089...75925>,\n",
       "  <EncryptedNumber 84768...91835>,\n",
       "  <EncryptedNumber 14475...56463>,\n",
       "  <EncryptedNumber 18208...47334>,\n",
       "  <EncryptedNumber 68744...34801>],\n",
       " [<EncryptedNumber 16684...80533>,\n",
       "  <EncryptedNumber 10293...05945>,\n",
       "  <EncryptedNumber 42928...12775>,\n",
       "  <EncryptedNumber 69307...91272>,\n",
       "  <EncryptedNumber 17721...01668>,\n",
       "  <EncryptedNumber 76982...00385>,\n",
       "  <EncryptedNumber 25406...01794>,\n",
       "  <EncryptedNumber 20317...66559>,\n",
       "  <EncryptedNumber 57065...35129>,\n",
       "  <EncryptedNumber 19224...13250>,\n",
       "  <EncryptedNumber 23541...31794>,\n",
       "  <EncryptedNumber 23639...71505>,\n",
       "  <EncryptedNumber 33761...45591>,\n",
       "  <EncryptedNumber 74057...85870>,\n",
       "  <EncryptedNumber 17078...57155>,\n",
       "  <EncryptedNumber 43885...72310>,\n",
       "  <EncryptedNumber 16751...76446>,\n",
       "  <EncryptedNumber 48555...48855>,\n",
       "  <EncryptedNumber 11287...59441>,\n",
       "  <EncryptedNumber 13253...84919>],\n",
       " [<EncryptedNumber 50308...39585>,\n",
       "  <EncryptedNumber 17706...97498>,\n",
       "  <EncryptedNumber 12276...07124>,\n",
       "  <EncryptedNumber 15865...91611>,\n",
       "  <EncryptedNumber 17584...22275>,\n",
       "  <EncryptedNumber 24930...60436>,\n",
       "  <EncryptedNumber 56172...21792>,\n",
       "  <EncryptedNumber 58521...61983>,\n",
       "  <EncryptedNumber 70664...09337>,\n",
       "  <EncryptedNumber 75014...08721>,\n",
       "  <EncryptedNumber 35437...00581>,\n",
       "  <EncryptedNumber 14601...68782>,\n",
       "  <EncryptedNumber 10510...81028>,\n",
       "  <EncryptedNumber 40800...29018>,\n",
       "  <EncryptedNumber 69688...80132>,\n",
       "  <EncryptedNumber 19007...08669>,\n",
       "  <EncryptedNumber 25111...03085>,\n",
       "  <EncryptedNumber 16447...35575>,\n",
       "  <EncryptedNumber 96135...74318>,\n",
       "  <EncryptedNumber 17106...39587>],\n",
       " [<EncryptedNumber 16628...87545>,\n",
       "  <EncryptedNumber 17703...48993>,\n",
       "  <EncryptedNumber 16249...66075>,\n",
       "  <EncryptedNumber 18681...83780>,\n",
       "  <EncryptedNumber 20768...91114>,\n",
       "  <EncryptedNumber 18121...60791>,\n",
       "  <EncryptedNumber 14665...99655>,\n",
       "  <EncryptedNumber 85974...15468>,\n",
       "  <EncryptedNumber 23665...13340>,\n",
       "  <EncryptedNumber 25213...54891>,\n",
       "  <EncryptedNumber 75010...90889>,\n",
       "  <EncryptedNumber 18960...89239>,\n",
       "  <EncryptedNumber 92943...85675>,\n",
       "  <EncryptedNumber 28407...52075>,\n",
       "  <EncryptedNumber 74483...13526>,\n",
       "  <EncryptedNumber 94857...88922>,\n",
       "  <EncryptedNumber 25535...20897>,\n",
       "  <EncryptedNumber 10423...29749>,\n",
       "  <EncryptedNumber 23806...80606>,\n",
       "  <EncryptedNumber 19930...12485>],\n",
       " [<EncryptedNumber 22373...74558>,\n",
       "  <EncryptedNumber 54353...09736>,\n",
       "  <EncryptedNumber 16748...17541>,\n",
       "  <EncryptedNumber 51779...53999>,\n",
       "  <EncryptedNumber 24830...41599>,\n",
       "  <EncryptedNumber 18429...46730>,\n",
       "  <EncryptedNumber 16018...49866>,\n",
       "  <EncryptedNumber 19335...45735>,\n",
       "  <EncryptedNumber 25029...15611>,\n",
       "  <EncryptedNumber 15893...93309>,\n",
       "  <EncryptedNumber 23618...92500>,\n",
       "  <EncryptedNumber 23160...31106>,\n",
       "  <EncryptedNumber 25067...94781>,\n",
       "  <EncryptedNumber 11389...59468>,\n",
       "  <EncryptedNumber 21074...87756>,\n",
       "  <EncryptedNumber 82334...01280>,\n",
       "  <EncryptedNumber 81672...44032>,\n",
       "  <EncryptedNumber 17546...25139>,\n",
       "  <EncryptedNumber 20690...76705>,\n",
       "  <EncryptedNumber 23117...18312>]]"
      ]
     },
     "execution_count": 62,
     "metadata": {},
     "output_type": "execute_result"
    }
   ],
   "source": [
    "# generate $nclients random vectors\n",
    "L = []\n",
    "for _ in range(nclients):\n",
    "    l =[]\n",
    "    for i in range(dimension):\n",
    "        l.append(random.randint(0,1000))\n",
    "    L.append(l)\n",
    "\n",
    "# encrypt all vectors\n",
    "E=[]\n",
    "for u in alive:\n",
    "    E.append(TJL.Protect(pp, ukey[u-1], t, L[u-1]))\n",
    "\n",
    "E"
   ]
  },
  {
   "cell_type": "markdown",
   "metadata": {},
   "source": [
    "### Protect the zero-value with the key shares of the dropped users  (**ShareProtect**)"
   ]
  },
  {
   "cell_type": "code",
   "execution_count": 63,
   "metadata": {},
   "outputs": [],
   "source": [
    "if dropped != []:\n",
    "    yzeroshare ={}\n",
    "    for u in alive:\n",
    "        dropped_users_shares = []\n",
    "        for v in dropped:\n",
    "            dropped_users_shares.append(usersshares[u][v])\n",
    "        yzeroshare[u] = TJL.ShareProtect(pp, dropped_users_shares,t)\n"
   ]
  },
  {
   "cell_type": "markdown",
   "metadata": {},
   "source": [
    "### Combine shares of the protected zero-value (**ShareCombine**)"
   ]
  },
  {
   "cell_type": "code",
   "execution_count": 64,
   "metadata": {},
   "outputs": [],
   "source": [
    "if dropped != []:\n",
    "    yzero = TJL.ShareCombine(pp, list(yzeroshare.values()), threshold)\n",
    "else:\n",
    "    yzero = None"
   ]
  },
  {
   "cell_type": "markdown",
   "metadata": {},
   "source": [
    "### Aggregate all user protected inputs and the protected zero-value of dropped users (**Agg**)"
   ]
  },
  {
   "cell_type": "code",
   "execution_count": 65,
   "metadata": {},
   "outputs": [
    {
     "name": "stdout",
     "output_type": "stream",
     "text": [
      "[4441, 3292, 4935, 4277, 2362, 3507, 3284, 3799, 4747, 3293, 2477, 3817, 3386, 4369, 4249, 3530, 3837, 2762, 3346, 2415, 3105, 3890, 3370, 3158, 4180, 1734, 4336, 4216, 2625, 4340, 4315, 1806, 3404, 2827, 2839, 4353, 3119, 1806, 4740, 2449, 4137, 3997, 2873, 3223, 3983, 4492, 4441, 3311, 2854, 3019, 5294, 3033, 3492, 3005, 2994, 4218, 4561, 3260, 3879, 3958, 4389, 4595, 3263, 2595, 3896, 3400, 4173, 3403, 2490, 4355, 3815, 4101, 2337, 4216, 3542, 2496, 4158, 3137, 3602, 4294, 3702, 2871, 3564, 2817, 3980, 4453, 3626, 4618, 3739, 2734, 2923, 4200, 3646, 3555, 2249, 3343, 3021, 5038, 4113, 2674, 3017, 3259, 4000, 3877, 2780, 4551, 3667, 4409, 3215, 4593, 1570, 2364, 2113, 2840, 3672, 3238, 4272, 3679, 3620, 3282, 2671, 3192, 3172, 3444, 3597, 3779, 3211, 4193, 3590, 2984, 3496, 3562, 2667, 4944, 3119, 4553, 2357, 2713, 3344, 3145, 3049, 2762, 3065, 2905, 2526, 3874, 4219, 3600, 2776, 4330, 3305, 4355, 2530, 3065, 3089, 3608, 3275, 4019, 3737, 4368, 2903, 2913, 4539, 3749, 4359, 3068, 2283, 3639, 3720, 3202, 3437, 2607, 3019, 4977, 2746, 3506, 3977, 2929, 3397, 4112, 3120, 2254, 3895, 3909, 2747, 3244, 3718, 4009, 3045, 3240, 4226, 3427, 4205, 3543, 2859, 3726, 4596, 3174, 4349, 5199, 3917, 2454, 3093, 2466, 3476, 2972, 2553, 3894, 4389, 2704, 4231, 2692, 3699, 3084, 3816, 3592, 3769, 1637, 4598, 3823, 3049, 3658, 2810, 3956, 2644, 3852, 2918, 3890, 3852, 2357, 2984, 4013, 4121, 3665, 3977, 2775, 3820, 3779, 3772, 3047, 2825, 4272, 2773, 4334, 3514, 3376, 4383, 3145, 4550, 2786, 3274, 5015, 3200, 3731, 2613, 3153, 3510, 4937, 3244, 3676, 3425, 3436, 4113, 3087, 3534, 3073, 2357, 4032, 3422, 5222, 2085, 3931, 4196, 2500, 2448, 3700, 4403, 3587, 1910, 3925, 4494, 3414, 2816, 2527, 3686, 2772, 2200, 4349, 5192, 3212, 3265, 4797, 2716, 2797, 4273, 4412, 1997, 3507, 3661, 2768, 3366, 3157, 2894, 2935, 3329, 3968, 4481, 3282, 3381, 2742, 3823, 2555, 3075, 4167, 2918, 3722, 4472, 3019, 2448, 3429, 2988, 4816, 2987, 3413, 3540, 3204, 3762, 2944, 2540, 3798, 3124, 4671, 4695, 3020, 3804, 3225, 4313, 3239, 3970, 2952, 3612, 3656, 4734, 3466, 3519, 2764, 3117, 4386, 3908, 3516, 3595, 3053, 4036, 3136, 4018, 3111, 3208, 1908, 3118, 4030, 3348, 2194, 3842, 2727, 4100, 4048, 3362, 3768, 1946, 3785, 3834, 4899, 2700, 4263, 2412, 4582, 3914, 2948, 4096, 4717, 3526, 3541, 3014, 3737, 4101, 3529, 3023, 3172, 2781, 2812, 2652, 2403, 3849, 2868, 3550, 3319, 4524, 3967, 3890, 2848, 3307, 3013, 4464, 4801, 4457, 3744, 3172, 3810, 4958, 3081, 4293, 2745, 3075, 4827, 1851, 3193, 3399, 3402, 3868, 2631, 3770, 3093, 3927, 3679, 4776, 3422, 3779, 3510, 3329, 2612, 3179, 2689, 3720, 3815, 4206, 4670, 3335, 3343, 2864, 2981, 2061, 4232, 2250, 3490, 3215, 3605, 4500, 4770, 2725, 3064, 3163, 4243, 2878, 3764, 3824, 2977, 2996, 2477, 4094, 3586, 2795, 3515, 2092, 4546, 3909, 3162, 3423, 3541, 2750, 5077, 2206, 2554, 3549, 2781, 1887, 1823, 3632, 2771, 2909, 2801, 3937, 2434, 3741, 2997, 2683, 3008, 3344, 3287, 3436, 4309, 5166, 4384, 3344, 4412, 2664, 3998, 3280, 2560, 3992, 4169, 3478, 2631, 2285, 3699, 4057, 4234, 2801, 3597, 3970, 4054, 3365, 1524, 4302, 2756, 3440, 3356, 3042, 3824, 4960, 4266, 4858, 2937, 2445, 2657, 3995, 4249, 2817, 3022, 3720, 2824, 2904, 5353, 3358, 2966, 3213, 3852, 3214, 3180, 4254, 3870, 3516, 3505, 3487, 3016, 2385, 3409, 3272, 4099, 4976, 3503, 3719, 3422, 2973, 3436, 4379, 3221, 4233, 2295, 3849, 3053, 3722, 2899, 3827, 2408, 4556, 2345, 3880, 3611, 2818, 2904, 4172, 3922, 3486, 2876, 4348, 1915, 2929, 3822, 3364, 3047, 3203, 3104, 3418, 2601, 2999, 4043, 3433, 3508, 2374, 3739, 4726, 3832, 2741, 3299, 3468, 3098, 3696, 2980, 3360, 3574, 5118, 3077, 4100, 3964, 2808, 3618, 3442, 3525, 2485, 5322, 3466, 4205, 3535, 2919, 5890, 3900, 3228, 3210, 1445, 1773, 2834, 3465, 3014, 3347, 4068, 2859, 4147, 3068, 2511, 2534, 3385, 3857, 3885, 3528, 4402, 3930, 3177, 3042, 4032, 3924, 2387, 3411, 3587, 4781, 3741, 3072, 4439, 4002, 3844, 3287, 3017, 2566, 3697, 1761, 3285, 3829, 2643, 4283, 4097, 3639, 2956, 2893, 2254, 3172, 3106, 3954, 2857, 3383, 4087, 3841, 4254, 3726, 2933, 3034, 3554, 3776, 3627, 2850, 3999, 4809, 3776, 3468, 3550, 2425, 3187, 4003, 4491, 2755, 4267, 2913, 4074, 3512, 3315, 3550, 4250, 3592, 3214, 4314, 2988, 2244, 2537, 3294, 5197, 4736, 4152, 2335, 3355, 3528, 4420, 4112, 3654, 2383, 3298, 4956, 2181, 3199, 3882, 3132, 3431, 4822, 2846, 3736, 3597, 3457, 3451, 4514, 2917, 3271, 1870, 3825, 4325, 2897, 4214, 3144, 3518, 3082, 3824, 4281, 2667, 2232, 2261, 3383, 3413, 3531, 3191, 2619, 2837, 2054, 2481, 2149, 3587, 2757, 4629, 3532, 3120, 3222, 2936, 2193, 4673, 3636, 2977, 2694, 2900, 2021, 4350, 2671, 2391, 3806, 2406, 4064, 2909, 3819, 2057, 3420, 3693, 4437, 2985, 1882, 4222, 3845, 4451, 3333, 3883, 3848, 4094, 4107, 4221, 4508, 3567, 3272, 5126, 2857, 4038, 3616, 3719, 4036, 2228, 4414, 3048, 3316, 3174, 3317, 3221, 3528, 3521, 3568, 3565, 3771, 2273, 3881, 3582, 3576, 4599, 3066, 3484, 4120, 2570, 3775, 3542, 5039, 5006, 2481, 3794, 4272, 3437, 4304, 5139, 3139, 3607, 3993, 3511, 3239, 3838, 3583, 3878, 4729, 3955, 3405, 3867, 2353, 3493, 3418, 3445, 4275, 4280, 2846, 3224, 4047, 2810, 2154, 2036, 3352, 4865, 4657, 3705, 3432, 3758, 2610, 4303, 3351, 3369, 3765, 3218, 3653, 3045, 3257, 3125, 4375, 4051, 3798, 3090, 1732, 3317, 2644, 3679, 3284, 2892, 3630, 2175, 3252, 4039, 1837, 3389, 4110, 3155, 3970, 2671, 2037, 3182, 4052, 4817, 2444, 3071, 3664, 3793, 2815, 3788, 3689, 3609, 2873, 3001, 5151, 4556, 2728, 2944, 3490, 4249, 2730, 4272, 4867, 3554, 4125, 3016, 3271, 4987, 3420, 4901, 3731, 3528, 4940, 2607, 3000, 3505, 3682, 4282, 3409, 2246, 4044, 2140, 3688, 3332, 4328, 3856, 3678, 3268, 4020, 3944, 4699, 3883, 3461, 2770, 3415, 3478, 3761, 2528, 3648, 2929, 4174, 2941, 3669, 2627, 2999, 2751, 2559, 4109, 3914, 3989, 3097, 3961, 2046, 2593, 3331, 2913, 4191, 3949, 3567, 3953, 4742, 3675, 2515, 3471, 2587, 3362, 3513, 3450, 4319, 2688, 3017, 4258, 3115, 2792, 4900, 2876, 4866, 3612, 2776, 3800, 4221, 3326, 3359, 3552, 2100, 2971, 2967, 3379, 4610, 4805, 2446, 3026, 3524]\n",
      "Verify:  True\n"
     ]
    }
   ],
   "source": [
    "S = TJL.Agg(pp, skey, t, E, yzero)\n",
    "\n",
    "\n",
    "summ=L[0]\n",
    "from operator import add\n",
    "for l in L[1:nclients-drops]:\n",
    "    summ = list(map(add, summ, l))\n",
    "\n",
    "print(S)\n",
    "# check if the result is correct\n",
    "print(\"Verify: \", S == summ)"
   ]
  }
 ],
 "metadata": {
  "interpreter": {
   "hash": "4f27cced53c47ba5545c0729b39b211c565a1a89df4a8f7415701fc2fd865834"
  },
  "kernelspec": {
   "display_name": "Python 3.10.1 64-bit ('.venv': venv)",
   "language": "python",
   "name": "python3"
  },
  "language_info": {
   "codemirror_mode": {
    "name": "ipython",
    "version": 3
   },
   "file_extension": ".py",
   "mimetype": "text/x-python",
   "name": "python",
   "nbconvert_exporter": "python",
   "pygments_lexer": "ipython3",
   "version": "3.10.1"
  },
  "orig_nbformat": 4
 },
 "nbformat": 4,
 "nbformat_minor": 2
}
