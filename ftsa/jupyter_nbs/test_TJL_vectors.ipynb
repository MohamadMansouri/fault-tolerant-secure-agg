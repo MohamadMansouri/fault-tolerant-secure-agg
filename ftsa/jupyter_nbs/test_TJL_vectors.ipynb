{
 "cells": [
  {
   "cell_type": "markdown",
   "metadata": {},
   "source": [
    "# Threshold Joye-Libert Secure Aggregation"
   ]
  },
  {
   "cell_type": "code",
   "execution_count": 1,
   "metadata": {},
   "outputs": [
    {
     "name": "stdout",
     "output_type": "stream",
     "text": [
      "users:  [1, 2, 3, 4, 5, 6, 7, 8, 9, 10]\n",
      "alive:  [1, 2, 3, 4, 5, 6, 7]\n",
      "dropped:  [8, 9, 10]\n"
     ]
    }
   ],
   "source": [
    "from ftsa.protocols.buildingblocks.JoyeLibert import TJLS\n",
    "from ftsa.protocols.buildingblocks.VectorEncoding import VES\n",
    "import random\n",
    "\n",
    "t = 412\n",
    "threshold = 7\n",
    "nclients = 10\n",
    "drops = 3\n",
    "keysize = 2048 \n",
    "inputsize = 16\n",
    "dimension = 10\n",
    "\n",
    "users = list(range(1, nclients+1))\n",
    "alive = list(range(1, nclients-drops+1))\n",
    "dropped = list(range(nclients-drops+1,nclients+1))\n",
    "\n",
    "\n",
    "VE = VES(keysize // 2, nclients, inputsize, dimension)\n",
    "TJL = TJLS(nclients, threshold, VE)\n",
    "\n",
    "print(\"users: \", users)\n",
    "print(\"alive: \", alive)\n",
    "print(\"dropped: \", dropped)"
   ]
  },
  {
   "cell_type": "markdown",
   "metadata": {},
   "source": [
    "### Generate JL keys (**Setup**)"
   ]
  },
  {
   "cell_type": "code",
   "execution_count": 2,
   "metadata": {},
   "outputs": [
    {
     "name": "stdout",
     "output_type": "stream",
     "text": [
      " - Public Parameters: <PublicParam (N=12272...00921, H(x)=0xcc45)>\n",
      " - Aggregator Key: <ServerKey -0x1f1565b>\n",
      " - User Keys: {0: <UserKey 0xa8205483>, 1: <UserKey 0x145bf181>, 2: <UserKey 0x1750f5e6>, 3: <UserKey 0x3a6bde93>, 4: <UserKey 0x15bac97d>, 5: <UserKey 0x1784bed3>, 6: <UserKey 0x8bc0bfe3>, 7: <UserKey 0xbda2ed54>, 8: <UserKey 0xf8a089ec>, 9: <UserKey 0x6f621c01>}\n"
     ]
    }
   ],
   "source": [
    "# generate keys\n",
    "pp, skey, ukey = TJL.Setup(keysize)\n",
    "\n",
    "print(\" - Public Parameters:\", pp)\n",
    "print(\" - Aggregator Key:\", skey)\n",
    "print(\" - User Keys:\", ukey)"
   ]
  },
  {
   "cell_type": "markdown",
   "metadata": {},
   "source": [
    "### Share the JL user key with all other users (**SKShare**)\n"
   ]
  },
  {
   "cell_type": "code",
   "execution_count": 3,
   "metadata": {},
   "outputs": [],
   "source": [
    "\n",
    "# share secret key of each user\n",
    "shares = {}\n",
    "for u in users: \n",
    "    shares[u] = TJL.SKShare(ukey[u-1],threshold, users)\n",
    "\n",
    "# distribute the shares\n",
    "from collections import defaultdict\n",
    "usersshares = defaultdict(dict)\n",
    "for v in users:\n",
    "    for u in users: \n",
    "        usersshares[u][v] = shares[v][u-1]"
   ]
  },
  {
   "cell_type": "markdown",
   "metadata": {},
   "source": [
    "### Protect inputs of alive users with the users' keys (**Protect**)"
   ]
  },
  {
   "cell_type": "code",
   "execution_count": 4,
   "metadata": {},
   "outputs": [
    {
     "data": {
      "text/plain": [
       "[[<EncryptedNumber 55891...85736>],\n",
       " [<EncryptedNumber 90137...91587>],\n",
       " [<EncryptedNumber 10825...08622>],\n",
       " [<EncryptedNumber 76636...09684>],\n",
       " [<EncryptedNumber 61184...92921>],\n",
       " [<EncryptedNumber 35969...93352>],\n",
       " [<EncryptedNumber 94455...77951>]]"
      ]
     },
     "execution_count": 4,
     "metadata": {},
     "output_type": "execute_result"
    }
   ],
   "source": [
    "# generate $nclients random vectors\n",
    "L = []\n",
    "for _ in range(nclients):\n",
    "    l =[]\n",
    "    for i in range(dimension):\n",
    "        l.append(random.randint(0,1000))\n",
    "    L.append(l)\n",
    "\n",
    "# encrypt all vectors\n",
    "E=[]\n",
    "for u in alive:\n",
    "    E.append(TJL.Protect(pp, ukey[u-1], t, L[u-1]))\n",
    "\n",
    "E"
   ]
  },
  {
   "cell_type": "markdown",
   "metadata": {},
   "source": [
    "### Protect the zero-value with the key shares of the dropped users  (**ShareProtect**)"
   ]
  },
  {
   "cell_type": "code",
   "execution_count": 5,
   "metadata": {},
   "outputs": [],
   "source": [
    "if dropped != []:\n",
    "    yzeroshare ={}\n",
    "    for u in alive:\n",
    "        dropped_users_shares = []\n",
    "        for v in dropped:\n",
    "            dropped_users_shares.append(usersshares[u][v])\n",
    "        yzeroshare[u] = TJL.ShareProtect(pp, dropped_users_shares,t)\n"
   ]
  },
  {
   "cell_type": "markdown",
   "metadata": {},
   "source": [
    "### Combine shares of the protected zero-value (**ShareCombine**)"
   ]
  },
  {
   "cell_type": "code",
   "execution_count": 6,
   "metadata": {},
   "outputs": [],
   "source": [
    "if dropped != []:\n",
    "    yzero = TJL.ShareCombine(pp, list(yzeroshare.values()), threshold)\n",
    "else:\n",
    "    yzero = None"
   ]
  },
  {
   "cell_type": "markdown",
   "metadata": {},
   "source": [
    "### Aggregate all user protected inputs and the protected zero-value of dropped users (**Agg**)"
   ]
  },
  {
   "cell_type": "code",
   "execution_count": 7,
   "metadata": {},
   "outputs": [
    {
     "name": "stdout",
     "output_type": "stream",
     "text": [
      "[5031, 3495, 5866, 3811, 2470, 2572, 3824, 3443, 3713, 4690]\n",
      "Verify:  True\n"
     ]
    }
   ],
   "source": [
    "S = TJL.Agg(pp, skey, t, E, yzero)\n",
    "\n",
    "\n",
    "summ=L[0]\n",
    "from operator import add\n",
    "for l in L[1:nclients-drops]:\n",
    "    summ = list(map(add, summ, l))\n",
    "\n",
    "print(S)\n",
    "# check if the result is correct\n",
    "print(\"Verify: \", S == summ)"
   ]
  }
 ],
 "metadata": {
  "interpreter": {
   "hash": "4f27cced53c47ba5545c0729b39b211c565a1a89df4a8f7415701fc2fd865834"
  },
  "kernelspec": {
   "display_name": "Python 3.10.1 64-bit ('.venv': venv)",
   "language": "python",
   "name": "python3"
  },
  "language_info": {
   "codemirror_mode": {
    "name": "ipython",
    "version": 3
   },
   "file_extension": ".py",
   "mimetype": "text/x-python",
   "name": "python",
   "nbconvert_exporter": "python",
   "pygments_lexer": "ipython3",
   "version": "3.8.12"
  },
  "orig_nbformat": 4
 },
 "nbformat": 4,
 "nbformat_minor": 2
}
