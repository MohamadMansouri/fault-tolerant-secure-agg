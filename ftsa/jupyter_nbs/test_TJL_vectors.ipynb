{
 "cells": [
  {
   "cell_type": "markdown",
   "metadata": {},
   "source": [
    "# Threshold Joye-Libert Secure Aggregation"
   ]
  },
  {
   "cell_type": "code",
   "execution_count": 1,
   "metadata": {},
   "outputs": [
    {
     "name": "stdout",
     "output_type": "stream",
     "text": [
      "users:  [1, 2, 3, 4, 5, 6, 7, 8, 9, 10]\n",
      "alive:  [1, 2, 3, 4, 5, 6, 7]\n",
      "dropped:  [8, 9, 10]\n"
     ]
    }
   ],
   "source": [
    "from ftsa.protocols.buildingblocks.JoyeLibert import TJLS\n",
    "from ftsa.protocols.buildingblocks.VectorEncoding import VES\n",
    "import random\n",
    "\n",
    "t = 412\n",
    "threshold = 7\n",
    "nclients = 10\n",
    "drops = 3\n",
    "keysize = 2048 \n",
    "inputsize = 16\n",
    "dimension = 10\n",
    "\n",
    "users = list(range(1, nclients+1))\n",
    "alive = list(range(1, nclients-drops+1))\n",
    "dropped = list(range(nclients-drops+1,nclients+1))\n",
    "\n",
    "\n",
    "VE = VES(keysize // 2, nclients, inputsize, dimension)\n",
    "TJL = TJLS(nclients, threshold, VE)\n",
    "\n",
    "print(\"users: \", users)\n",
    "print(\"alive: \", alive)\n",
    "print(\"dropped: \", dropped)"
   ]
  },
  {
   "cell_type": "markdown",
   "metadata": {},
   "source": [
    "### Generate JL keys (**Setup**)"
   ]
  },
  {
   "cell_type": "code",
   "execution_count": 2,
   "metadata": {},
   "outputs": [
    {
     "name": "stdout",
     "output_type": "stream",
     "text": [
      " - Public Parameters: <PublicParam (N=14439...04021, H(x)=0x323b6f6)>\n",
      " - Aggregator Key: <ServerKey -0x4415d9f>\n",
      " - User Keys: {0: <UserKey 0x12829774>, 1: <UserKey 0x13fe5685>, 2: <UserKey 0x1c14bead>, 3: <UserKey 0x1ed5b656>, 4: <UserKey 0x15f15b5c>, 5: <UserKey 0x1a0696e8>, 6: <UserKey 0x1112f218>, 7: <UserKey 0x1d7875b2>, 8: <UserKey 0xa141d054>, 9: <UserKey 0x1a3e838b>}\n"
     ]
    }
   ],
   "source": [
    "# generate keys\n",
    "pp, skey, ukey = TJL.Setup(keysize)\n",
    "\n",
    "print(\" - Public Parameters:\", pp)\n",
    "print(\" - Aggregator Key:\", skey)\n",
    "print(\" - User Keys:\", ukey)"
   ]
  },
  {
   "cell_type": "markdown",
   "metadata": {},
   "source": [
    "### Share the JL user key with all other users (**SKShare**)\n"
   ]
  },
  {
   "cell_type": "code",
   "execution_count": 3,
   "metadata": {},
   "outputs": [],
   "source": [
    "\n",
    "# share secret key of each user\n",
    "shares = {}\n",
    "for u in users: \n",
    "    shares[u] = TJL.SKShare(ukey[u-1],threshold, users)\n",
    "\n",
    "# distribute the shares\n",
    "from collections import defaultdict\n",
    "usersshares = defaultdict(dict)\n",
    "for v in users:\n",
    "    for u in users: \n",
    "        usersshares[u][v] = shares[v][u-1]"
   ]
  },
  {
   "cell_type": "markdown",
   "metadata": {},
   "source": [
    "### Protect inputs of alive users with the users' keys (**Protect**)"
   ]
  },
  {
   "cell_type": "code",
   "execution_count": 4,
   "metadata": {},
   "outputs": [
    {
     "name": "stdout",
     "output_type": "stream",
     "text": [
      "user 1: [87, 54, 381, 174, 855, 296, 904, 492, 654, 923] [<EncryptedNumber 18922...10064>]\n",
      "user 2: [793, 779, 564, 758, 653, 473, 543, 379, 462, 801] [<EncryptedNumber 12039...14519>]\n",
      "user 3: [146, 253, 458, 734, 824, 318, 659, 731, 120, 368] [<EncryptedNumber 15255...26257>]\n",
      "user 4: [122, 553, 662, 796, 327, 312, 237, 580, 567, 200] [<EncryptedNumber 77872...01745>]\n",
      "user 5: [793, 145, 868, 931, 439, 64, 113, 705, 775, 976] [<EncryptedNumber 80153...01340>]\n",
      "user 6: [233, 656, 331, 527, 832, 644, 887, 166, 932, 993] [<EncryptedNumber 66013...09853>]\n",
      "user 7: [455, 533, 530, 949, 764, 312, 874, 699, 634, 626] [<EncryptedNumber 36859...04841>]\n"
     ]
    }
   ],
   "source": [
    "# generate $nclients random vectors\n",
    "L = []\n",
    "for j in range(nclients):\n",
    "    l =[]\n",
    "    for i in range(dimension):\n",
    "        l.append(random.randint(0,1000))\n",
    "    L.append(l)\n",
    "# encrypt all vectors\n",
    "E=[]\n",
    "for u in alive:\n",
    "    e = TJL.Protect(pp, ukey[u-1], t, L[u-1])\n",
    "    E.append(e)\n",
    "    print(\"user {}:\".format(u), L[u-1], e)"
   ]
  },
  {
   "cell_type": "markdown",
   "metadata": {},
   "source": [
    "### Protect the zero-value with the key shares of the dropped users  (**ShareProtect**)"
   ]
  },
  {
   "cell_type": "code",
   "execution_count": 5,
   "metadata": {},
   "outputs": [
    {
     "data": {
      "text/plain": [
       "{1: [<ftsa.protocols.buildingblocks.IntegerSS.IShare at 0x7faea64e3070>],\n",
       " 2: [<ftsa.protocols.buildingblocks.IntegerSS.IShare at 0x7faea64e3190>],\n",
       " 3: [<ftsa.protocols.buildingblocks.IntegerSS.IShare at 0x7faea64e38b0>],\n",
       " 4: [<ftsa.protocols.buildingblocks.IntegerSS.IShare at 0x7faea64e39a0>],\n",
       " 5: [<ftsa.protocols.buildingblocks.IntegerSS.IShare at 0x7faea64e0b80>],\n",
       " 6: [<ftsa.protocols.buildingblocks.IntegerSS.IShare at 0x7faea64e25c0>],\n",
       " 7: [<ftsa.protocols.buildingblocks.IntegerSS.IShare at 0x7faea64e26b0>]}"
      ]
     },
     "execution_count": 5,
     "metadata": {},
     "output_type": "execute_result"
    }
   ],
   "source": [
    "if dropped != []:\n",
    "    yzeroshare ={}\n",
    "    for u in alive:\n",
    "        dropped_users_shares = []\n",
    "        for v in dropped:\n",
    "            dropped_users_shares.append(usersshares[u][v])\n",
    "        yzeroshare[u] = TJL.ShareProtect(pp, dropped_users_shares,t)\n",
    "\n",
    "yzeroshare"
   ]
  },
  {
   "cell_type": "markdown",
   "metadata": {},
   "source": [
    "### Combine shares of the protected zero-value (**ShareCombine**)"
   ]
  },
  {
   "cell_type": "code",
   "execution_count": 6,
   "metadata": {},
   "outputs": [
    {
     "data": {
      "text/plain": [
       "[<EncryptedNumber 12779...38970>]"
      ]
     },
     "execution_count": 6,
     "metadata": {},
     "output_type": "execute_result"
    }
   ],
   "source": [
    "if dropped != []:\n",
    "    yzero = TJL.ShareCombine(pp, list(yzeroshare.values()), threshold)\n",
    "else:\n",
    "    yzero = None\n",
    "\n",
    "yzero"
   ]
  },
  {
   "cell_type": "markdown",
   "metadata": {},
   "source": [
    "### Aggregate all user protected inputs and the protected zero-value of dropped users (**Agg**)"
   ]
  },
  {
   "cell_type": "code",
   "execution_count": 7,
   "metadata": {},
   "outputs": [
    {
     "name": "stdout",
     "output_type": "stream",
     "text": [
      "[2629, 2973, 3794, 4869, 4694, 2419, 4217, 3752, 4144, 4887]\n",
      "[2629, 2973, 3794, 4869, 4694, 2419, 4217, 3752, 4144, 4887]\n",
      "Verify:  True\n"
     ]
    }
   ],
   "source": [
    "S = TJL.Agg(pp, skey, t, E, yzero)\n",
    "\n",
    "\n",
    "summ=L[0]\n",
    "from operator import add\n",
    "for l in L[1:nclients-drops]:\n",
    "    summ = list(map(add, summ, l))\n",
    "\n",
    "print(S)\n",
    "print(summ)\n",
    "# check if the result is correct\n",
    "print(\"Verify: \", S == summ)"
   ]
  }
 ],
 "metadata": {
  "interpreter": {
   "hash": "4f27cced53c47ba5545c0729b39b211c565a1a89df4a8f7415701fc2fd865834"
  },
  "kernelspec": {
   "display_name": "Python 3 (ipykernel)",
   "language": "python",
   "name": "python3"
  },
  "language_info": {
   "codemirror_mode": {
    "name": "ipython",
    "version": 3
   },
   "file_extension": ".py",
   "mimetype": "text/x-python",
   "name": "python",
   "nbconvert_exporter": "python",
   "pygments_lexer": "ipython3",
   "version": "3.10.5"
  }
 },
 "nbformat": 4,
 "nbformat_minor": 2
}
