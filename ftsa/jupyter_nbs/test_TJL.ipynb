{
 "cells": [
  {
   "cell_type": "markdown",
   "metadata": {},
   "source": [
    "# Threshold Joye-Libert Secure Aggregation"
   ]
  },
  {
   "cell_type": "code",
   "execution_count": 1,
   "metadata": {},
   "outputs": [
    {
     "name": "stdout",
     "output_type": "stream",
     "text": [
      "users:  [1, 2, 3, 4, 5, 6, 7, 8, 9, 10]\n",
      "alive:  [1, 2, 3, 4, 5, 6, 7]\n",
      "dropped:  [8, 9, 10]\n"
     ]
    }
   ],
   "source": [
    "from ftsa.protocols.buildingblocks.JoyeLibert import TJLS\n",
    "import random\n",
    "\n",
    "t = 412\n",
    "threshold = 7\n",
    "nclients = 10\n",
    "drops = 3\n",
    "keysize = 2048 \n",
    "inputsize = 16\n",
    "dimension = 100\n",
    "\n",
    "users = list(range(1, nclients+1))\n",
    "alive = list(range(1, nclients-drops+1))\n",
    "dropped = list(range(nclients-drops+1,nclients+1))\n",
    "\n",
    "\n",
    "TJL = TJLS(nclients, threshold)\n",
    "\n",
    "print(\"users: \", users)\n",
    "print(\"alive: \", alive)\n",
    "print(\"dropped: \", dropped)"
   ]
  },
  {
   "cell_type": "markdown",
   "metadata": {},
   "source": [
    "### Generate JL keys (**Setup**)"
   ]
  },
  {
   "cell_type": "code",
   "execution_count": 2,
   "metadata": {},
   "outputs": [
    {
     "name": "stdout",
     "output_type": "stream",
     "text": [
      " - Public Parameters: <PublicParam (N=11537...77537, H(x)=0x1938d02)>\n",
      " - Aggregator Key: <ServerKey -0x1ddb0b4>\n",
      " - User Keys: {0: <UserKey 0x1df6666e>, 1: <UserKey 0xc502babd>, 2: <UserKey 0x5dc925e0>, 3: <UserKey 0x175f1987>, 4: <UserKey 0x73dc48f0>, 5: <UserKey 0x17440867>, 6: <UserKey 0x1bce9351>, 7: <UserKey 0xfe0d5083>, 8: <UserKey 0x1e9911f0>, 9: <UserKey 0xd8e8603a>}\n"
     ]
    }
   ],
   "source": [
    "# generate keys\n",
    "pp, skey, ukey = TJL.Setup(keysize)\n",
    "\n",
    "print(\" - Public Parameters:\", pp)\n",
    "print(\" - Aggregator Key:\", skey)\n",
    "print(\" - User Keys:\", ukey)"
   ]
  },
  {
   "cell_type": "markdown",
   "metadata": {},
   "source": [
    "### Share the JL user key with all other users (**SKShare**)\n"
   ]
  },
  {
   "cell_type": "code",
   "execution_count": 3,
   "metadata": {},
   "outputs": [
    {
     "name": "stdout",
     "output_type": "stream",
     "text": [
      "CPU times: user 0 ns, sys: 2.64 ms, total: 2.64 ms\n",
      "Wall time: 1.92 ms\n"
     ]
    }
   ],
   "source": [
    "# share secret key of each user\n",
    "shares = {}\n",
    "for u in users: \n",
    "    shares[u] = TJL.SKShare(ukey[u-1],threshold, users)\n",
    "\n",
    "# distribute the shares\n",
    "from collections import defaultdict\n",
    "usersshares = defaultdict(dict)\n",
    "for v in users:\n",
    "    for u in users: \n",
    "        usersshares[u][v] = shares[v][u-1]"
   ]
  },
  {
   "cell_type": "markdown",
   "metadata": {},
   "source": [
    "### Protect inputs of alive users with the users' keys (**Protect**)"
   ]
  },
  {
   "cell_type": "code",
   "execution_count": 4,
   "metadata": {},
   "outputs": [
    {
     "name": "stdout",
     "output_type": "stream",
     "text": [
      "Clients Inputs:  [23606, 21316, 24226, 36192, 11696, 30082, 42691, 59692, 18397, 9939]\n"
     ]
    },
    {
     "data": {
      "text/plain": [
       "[<EncryptedNumber 10901...35235>,\n",
       " <EncryptedNumber 11485...00440>,\n",
       " <EncryptedNumber 12617...78525>,\n",
       " <EncryptedNumber 11916...64923>,\n",
       " <EncryptedNumber 77959...47247>,\n",
       " <EncryptedNumber 10686...49772>,\n",
       " <EncryptedNumber 74869...53401>]"
      ]
     },
     "execution_count": 4,
     "metadata": {},
     "output_type": "execute_result"
    }
   ],
   "source": [
    "# generate $nclients random numbers\n",
    "l =[]\n",
    "for i in range(0,nclients):\n",
    "    l.append(random.randint(0,2**16))\n",
    "\n",
    "print(\"Clients Inputs: \", l )\n",
    "\n",
    "\n",
    "# protect each number with a different client key\n",
    "e=[]\n",
    "for u in alive:\n",
    "    e.append(TJL.Protect(pp, ukey[u-1], t, l[u-1]))\n",
    "\n",
    "e"
   ]
  },
  {
   "cell_type": "markdown",
   "metadata": {},
   "source": [
    "### Protect the zero-value with the key shares of the dropped users  (**ShareProtect**)"
   ]
  },
  {
   "cell_type": "code",
   "execution_count": 5,
   "metadata": {},
   "outputs": [],
   "source": [
    "if dropped != []:\n",
    "    yzeroshare ={}\n",
    "    for u in alive:\n",
    "        dropped_users_shares = []\n",
    "        for v in dropped:\n",
    "            dropped_users_shares.append(usersshares[u][v])\n",
    "        yzeroshare[u] = TJL.ShareProtect(pp, dropped_users_shares,t)\n"
   ]
  },
  {
   "cell_type": "markdown",
   "metadata": {},
   "source": [
    "### Combine shares of the protected zero-value (**ShareCombine**)"
   ]
  },
  {
   "cell_type": "code",
   "execution_count": 6,
   "metadata": {},
   "outputs": [
    {
     "name": "stdout",
     "output_type": "stream",
     "text": [
      "yzero: <EncryptedNumber 54941...91890>\n"
     ]
    }
   ],
   "source": [
    "if dropped != []:\n",
    "    yzero = TJL.ShareCombine(pp, list(yzeroshare.values()), threshold)\n",
    "    print(\"yzero:\", yzero)\n",
    "else:\n",
    "    yzero = None"
   ]
  },
  {
   "cell_type": "markdown",
   "metadata": {},
   "source": [
    "### Aggregate all user protected inputs and the protected zero-value of dropped users (**Agg**)"
   ]
  },
  {
   "cell_type": "code",
   "execution_count": 7,
   "metadata": {},
   "outputs": [
    {
     "name": "stdout",
     "output_type": "stream",
     "text": [
      "Sum= 189809\n",
      "Verify= True\n"
     ]
    }
   ],
   "source": [
    "s = TJL.Agg(pp, skey, t, e, yzero)\n",
    "\n",
    "\n",
    "print(\"Sum=\", s )\n",
    "# check if the result is correct\n",
    "print(\"Verify=\", s == sum(l[:nclients-drops]))"
   ]
  }
 ],
 "metadata": {
  "interpreter": {
   "hash": "4f27cced53c47ba5545c0729b39b211c565a1a89df4a8f7415701fc2fd865834"
  },
  "kernelspec": {
   "display_name": "Python 3 (ipykernel)",
   "language": "python",
   "name": "python3"
  },
  "language_info": {
   "codemirror_mode": {
    "name": "ipython",
    "version": 3
   },
   "file_extension": ".py",
   "mimetype": "text/x-python",
   "name": "python",
   "nbconvert_exporter": "python",
   "pygments_lexer": "ipython3",
   "version": "3.10.5"
  }
 },
 "nbformat": 4,
 "nbformat_minor": 2
}
