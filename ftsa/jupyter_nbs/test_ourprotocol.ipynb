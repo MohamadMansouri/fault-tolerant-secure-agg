{
 "cells": [
  {
   "cell_type": "code",
   "execution_count": 1,
   "metadata": {},
   "outputs": [],
   "source": [
    "from ftsa.protocols.ourftsa22.client import Client\n",
    "from ftsa.protocols.ourftsa22.server import Server\n",
    "from ftsa.protocols.buildingblocks.JoyeLibert import TJLS\n",
    "\n",
    "dimension = 10\n",
    "inputsize = 16 \n",
    "keysize = 2048\n",
    "threshold = 14\n",
    "nclients = 20\n",
    "dropout = 0\n",
    "publicparam, _ , _ = TJLS(nclients, threshold).Setup(keysize)\n",
    "\n",
    "Client.set_scenario(dimension, inputsize, keysize, threshold, nclients, publicparam)\n",
    "Server.set_scenario(dimension, inputsize, keysize, threshold, nclients, publicparam)\n"
   ]
  },
  {
   "cell_type": "markdown",
   "metadata": {},
   "source": [
    "# Create clients and server"
   ]
  },
  {
   "cell_type": "code",
   "execution_count": 2,
   "metadata": {},
   "outputs": [],
   "source": [
    "clients = {}\n",
    "for i in range(nclients):\n",
    "    idx = i+1\n",
    "    clients[idx] = Client(idx)\n",
    "\n",
    "server = Server()"
   ]
  },
  {
   "cell_type": "markdown",
   "metadata": {},
   "source": [
    "### **Setup-Register** phase"
   ]
  },
  {
   "cell_type": "code",
   "execution_count": 3,
   "metadata": {},
   "outputs": [],
   "source": [
    "# The clients \n",
    "allpks = {}\n",
    "allpkc = {}\n",
    "for i in range(nclients):\n",
    "    user, pks, pkc = clients[i+1].setup_register()\n",
    "    allpks[user] = pks\n",
    "    allpkc[user] = pkc"
   ]
  },
  {
   "cell_type": "code",
   "execution_count": 4,
   "metadata": {},
   "outputs": [],
   "source": [
    "# The server\n",
    "allpks, allpkc = server.setup_register(allpks, allpkc)"
   ]
  },
  {
   "cell_type": "markdown",
   "metadata": {},
   "source": [
    "### **Setup-KeySetup** phase"
   ]
  },
  {
   "cell_type": "code",
   "execution_count": 5,
   "metadata": {},
   "outputs": [],
   "source": [
    "# The clients\n",
    "allekshares = {}\n",
    "for i in range(nclients):\n",
    "    user, eshares = clients[i+1].setup_keysetup(allpks, allpkc)\n",
    "    allekshares[user] = eshares"
   ]
  },
  {
   "cell_type": "code",
   "execution_count": 6,
   "metadata": {},
   "outputs": [],
   "source": [
    "# The server \n",
    "allekshares = server.setup_keysetup(allekshares)"
   ]
  },
  {
   "cell_type": "code",
   "execution_count": 7,
   "metadata": {},
   "outputs": [],
   "source": [
    "# The clients\n",
    "for i in range(nclients):\n",
    "    clients[i+1].setup_keysetup2(allekshares[i+1])"
   ]
  },
  {
   "cell_type": "markdown",
   "metadata": {},
   "source": [
    "### **Online-Encrypt** phase"
   ]
  },
  {
   "cell_type": "code",
   "execution_count": 8,
   "metadata": {},
   "outputs": [],
   "source": [
    "# The clients\n",
    "allebshares = {}\n",
    "allY = {}\n",
    "# run only for alive users (nclients-dropout)\n",
    "for i in range(nclients-dropout):\n",
    "    clients[i+1].new_fl_step()\n",
    "    user, eshares, Y = clients[i+1].online_encrypt()\n",
    "    allebshares[user] = eshares\n",
    "    allY[user] = Y\n"
   ]
  },
  {
   "cell_type": "code",
   "execution_count": 9,
   "metadata": {},
   "outputs": [],
   "source": [
    "# The server\n",
    "allebshares = server.online_encrypt(allebshares, allY)"
   ]
  },
  {
   "cell_type": "markdown",
   "metadata": {},
   "source": [
    "### **Online-Construct** phase"
   ]
  },
  {
   "cell_type": "code",
   "execution_count": 10,
   "metadata": {},
   "outputs": [],
   "source": [
    "# The clients\n",
    "allbshares = {}\n",
    "Yzeroshares = {}\n",
    "for i in range(nclients-dropout):\n",
    "    user, bshares, Yzeroshare = clients[i+1].online_construct(allebshares[i+1])\n",
    "    allbshares[user] = bshares \n",
    "    Yzeroshares[user] = Yzeroshare"
   ]
  },
  {
   "cell_type": "code",
   "execution_count": 11,
   "metadata": {},
   "outputs": [],
   "source": [
    "# The server\n",
    "sumX = server.online_construct(allbshares, Yzeroshares.values())"
   ]
  },
  {
   "cell_type": "code",
   "execution_count": 12,
   "metadata": {},
   "outputs": [
    {
     "name": "stdout",
     "output_type": "stream",
     "text": [
      "[745713, 672630, 723813, 561831, 556422, 646468, 624169, 723906, 634101, 595072]\n",
      "[745713, 672630, 723813, 561831, 556422, 646468, 624169, 723906, 634101, 595072]\n",
      "Verify:  True\n"
     ]
    }
   ],
   "source": [
    "# Verify the results\n",
    "summ=clients[1].X\n",
    "from operator import add\n",
    "for i in range(1, nclients-dropout):\n",
    "    summ = list(map(add, summ, clients[i+1].X))\n",
    "\n",
    "print(summ)\n",
    "print(sumX)\n",
    "print(\"Verify: \", sumX  == summ )\n"
   ]
  }
 ],
 "metadata": {
  "interpreter": {
   "hash": "e7370f93d1d0cde622a1f8e1c04877d8463912d04d973331ad4851f04de6915a"
  },
  "kernelspec": {
   "display_name": "Python 3.10.1 64-bit",
   "language": "python",
   "name": "python3"
  },
  "language_info": {
   "codemirror_mode": {
    "name": "ipython",
    "version": 3
   },
   "file_extension": ".py",
   "mimetype": "text/x-python",
   "name": "python",
   "nbconvert_exporter": "python",
   "pygments_lexer": "ipython3",
   "version": "3.8.12"
  },
  "orig_nbformat": 4
 },
 "nbformat": 4,
 "nbformat_minor": 2
}
