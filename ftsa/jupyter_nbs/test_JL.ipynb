{
 "cells": [
  {
   "cell_type": "markdown",
   "metadata": {},
   "source": [
    "# Joye-Libert Secure Aggregation Scheme (JL)"
   ]
  },
  {
   "cell_type": "code",
   "execution_count": 1,
   "metadata": {},
   "outputs": [],
   "source": [
    "from ftsa.protocols.buildingblocks.JoyeLibert import JLS\n",
    "from ftsa.protocols.buildingblocks.VectorEncoding import VES\n",
    "import random\n",
    "\n",
    "t = 412\n",
    "nclients = 10\n",
    "keysize = 2048 \n",
    "inputsize = 16\n",
    "dimension = 1000\n",
    "\n",
    "VE = VES(keysize // 2, nclients, inputsize, dimension)\n",
    "JL = JLS(nclients, VE)"
   ]
  },
  {
   "cell_type": "markdown",
   "metadata": {},
   "source": [
    "### Generate Keys for $nclients and server"
   ]
  },
  {
   "cell_type": "code",
   "execution_count": 2,
   "metadata": {},
   "outputs": [
    {
     "name": "stdout",
     "output_type": "stream",
     "text": [
      " - Public Parameters: <PublicParam (N=11174...91901, H(x)=0x2d91f9)>\n",
      " - Aggregator Key: <ServerKey -0x153a9c9>\n",
      " - User Keys: {0: <UserKey 0x2dcdd553>, 1: <UserKey 0x8b9c08f8>, 2: <UserKey 0x11a87cf9>, 3: <UserKey 0x58df8ea2>, 4: <UserKey 0xf5413a31>, 5: <UserKey 0x1304a496>, 6: <UserKey 0x853e9224>, 7: <UserKey 0x45156f87>, 8: <UserKey 0x13bf2dee>, 9: <UserKey 0x17de871a>}\n"
     ]
    }
   ],
   "source": [
    "# generate keys\n",
    "pp, skey, ukey = JL.Setup(keysize)\n",
    "\n",
    "print(\" - Public Parameters:\", pp)\n",
    "print(\" - Aggregator Key:\", skey)\n",
    "print(\" - User Keys:\", ukey)"
   ]
  },
  {
   "cell_type": "markdown",
   "metadata": {},
   "source": [
    "### Working with integers: Encrypt random numbers with client keys and aggregate them. Then decrypt them with server key"
   ]
  },
  {
   "cell_type": "code",
   "execution_count": 3,
   "metadata": {},
   "outputs": [
    {
     "name": "stdout",
     "output_type": "stream",
     "text": [
      "Clients Inputs:  [2874, 31262, 20169, 55532, 44313, 57423, 44862, 35289, 38880, 39536]\n",
      "Sum= 370140\n",
      "Verify= True\n"
     ]
    }
   ],
   "source": [
    "# generate $nclients random numbers\n",
    "l =[]\n",
    "for i in range(0,nclients):\n",
    "    l.append(random.randint(0,2**16))\n",
    "\n",
    "print(\"Clients Inputs: \", l )\n",
    "\n",
    "# protect each number with a different client key\n",
    "e=[]\n",
    "for i in range(0,nclients):\n",
    "    e.append(JL.Protect(pp, ukey[i], t, l[i]))\n",
    "\n",
    "# aggregate all protected number with the server key\n",
    "s = JL.Agg(pp, skey, t, e)\n",
    "\n",
    "print(\"Sum=\", s )\n",
    "\n",
    "# check if the result is correct\n",
    "print(\"Verify=\", s == sum(l))"
   ]
  },
  {
   "cell_type": "markdown",
   "metadata": {},
   "source": [
    "### Working with vectors: Encrypt random vectors with client keys and aggregate them. Then decrypt them with server key"
   ]
  },
  {
   "cell_type": "code",
   "execution_count": 4,
   "metadata": {},
   "outputs": [
    {
     "name": "stdout",
     "output_type": "stream",
     "text": [
      "Verify:  True\n"
     ]
    }
   ],
   "source": [
    "# generate $nclients random vectors\n",
    "L = []\n",
    "for _ in range(nclients):\n",
    "    l =[]\n",
    "    for i in range(dimension):\n",
    "        l.append(random.randint(0,1000))\n",
    "    L.append(l)\n",
    "\n",
    "# encrypt all vectors\n",
    "E=[]\n",
    "for i in range(0,nclients):\n",
    "    E.append(JL.Protect(pp, ukey[i], t, L[i]))\n",
    "\n",
    "# aggregate all protected vector with the server key\n",
    "S = JL.Agg(pp, skey, t, E)\n",
    "\n",
    "summ=L[0]\n",
    "from operator import add\n",
    "for l in L[1:]:\n",
    "    summ = list(map(add, summ, l))\n",
    "\n",
    "\n",
    "# check if the result is correct\n",
    "print(\"Verify: \", S == summ)"
   ]
  }
 ],
 "metadata": {
  "interpreter": {
   "hash": "4f27cced53c47ba5545c0729b39b211c565a1a89df4a8f7415701fc2fd865834"
  },
  "kernelspec": {
   "display_name": "Python 3 (ipykernel)",
   "language": "python",
   "name": "python3"
  },
  "language_info": {
   "codemirror_mode": {
    "name": "ipython",
    "version": 3
   },
   "file_extension": ".py",
   "mimetype": "text/x-python",
   "name": "python",
   "nbconvert_exporter": "python",
   "pygments_lexer": "ipython3",
   "version": "3.10.5"
  }
 },
 "nbformat": 4,
 "nbformat_minor": 2
}
