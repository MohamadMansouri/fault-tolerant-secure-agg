{
 "cells": [
  {
   "cell_type": "code",
   "execution_count": 13,
   "metadata": {},
   "outputs": [],
   "source": [
    "from ftsa.protocols.ccsftsa17.client import Client\n",
    "from ftsa.protocols.ccsftsa17.server import Server\n",
    "\n",
    "dimension = 10\n",
    "inputsize = 16 \n",
    "keysize = 256\n",
    "threshold = 14\n",
    "nclients = 20\n",
    "dropout = 6\n",
    "\n",
    "Client.set_scenario(dimension, inputsize, keysize, threshold, nclients)\n",
    "Server.set_scenario(dimension, inputsize, keysize, threshold, nclients)\n"
   ]
  },
  {
   "cell_type": "markdown",
   "metadata": {},
   "source": [
    "# Create clients and server"
   ]
  },
  {
   "cell_type": "code",
   "execution_count": 14,
   "metadata": {},
   "outputs": [],
   "source": [
    "clients = {}\n",
    "for i in range(nclients):\n",
    "    idx = i+1\n",
    "    clients[idx] = Client(idx)\n",
    "\n",
    "server = Server()"
   ]
  },
  {
   "cell_type": "markdown",
   "metadata": {},
   "source": [
    "### **Round 0** -- Advertise Keys"
   ]
  },
  {
   "cell_type": "code",
   "execution_count": 15,
   "metadata": {},
   "outputs": [],
   "source": [
    "# The clients \n",
    "allpks = {}\n",
    "allpkc = {}\n",
    "for i in range(nclients):\n",
    "    clients[i+1].new_fl_step()\n",
    "    user, pks, pkc = clients[i+1].advertise_keys()\n",
    "    allpks[user] = pks\n",
    "    allpkc[user] = pkc"
   ]
  },
  {
   "cell_type": "code",
   "execution_count": 16,
   "metadata": {},
   "outputs": [],
   "source": [
    "# The server\n",
    "allpks, allpkc = server.advertise_keys(allpks, allpkc)"
   ]
  },
  {
   "cell_type": "markdown",
   "metadata": {},
   "source": [
    "### **Round 1** -- Share Keys"
   ]
  },
  {
   "cell_type": "code",
   "execution_count": 17,
   "metadata": {},
   "outputs": [],
   "source": [
    "# The clients\n",
    "allekshares = {}\n",
    "for i in range(nclients):\n",
    "    user, eshares = clients[i+1].share_keys(allpks, allpkc)\n",
    "    allekshares[user] = eshares"
   ]
  },
  {
   "cell_type": "code",
   "execution_count": 18,
   "metadata": {},
   "outputs": [],
   "source": [
    "# The server \n",
    "allekshares = server.share_keys(allekshares)"
   ]
  },
  {
   "cell_type": "markdown",
   "metadata": {},
   "source": [
    "### **Round 2** -- Masked Input Collection"
   ]
  },
  {
   "cell_type": "code",
   "execution_count": 19,
   "metadata": {},
   "outputs": [],
   "source": [
    "# The clients\n",
    "allY = {}\n",
    "for i in range(nclients):\n",
    "    user, Y = clients[i+1].masked_input_collection(allekshares[i+1])\n",
    "    allY[user] = Y\n"
   ]
  },
  {
   "cell_type": "code",
   "execution_count": 20,
   "metadata": {},
   "outputs": [],
   "source": [
    "# drop some clients\n",
    "nclientsnew = nclients - dropout\n",
    "allY = {idx:y for idx, y in allY.items() if idx <= nclientsnew }"
   ]
  },
  {
   "cell_type": "code",
   "execution_count": 21,
   "metadata": {},
   "outputs": [],
   "source": [
    "# The server\n",
    "U3 = server.masked_input_collection(allY)"
   ]
  },
  {
   "cell_type": "markdown",
   "metadata": {},
   "source": [
    "### **Round 3** -- Consistency Check\n",
    "Depriciated"
   ]
  },
  {
   "cell_type": "markdown",
   "metadata": {},
   "source": [
    "### **Round 4** -- Unmasking"
   ]
  },
  {
   "cell_type": "code",
   "execution_count": 22,
   "metadata": {},
   "outputs": [],
   "source": [
    "# The clients\n",
    "allbshares = {}\n",
    "allkshares = {}\n",
    "for i in range(nclientsnew):\n",
    "    user, kshares, bshares = clients[i+1].unmasking(U3)\n",
    "    allbshares[user] = bshares \n",
    "    allkshares[user] = kshares "
   ]
  },
  {
   "cell_type": "code",
   "execution_count": 23,
   "metadata": {},
   "outputs": [],
   "source": [
    "# The server\n",
    "sumX = server.unmasking(allkshares, allbshares)"
   ]
  },
  {
   "cell_type": "code",
   "execution_count": 24,
   "metadata": {},
   "outputs": [
    {
     "name": "stdout",
     "output_type": "stream",
     "text": [
      "Verify:  True\n"
     ]
    }
   ],
   "source": [
    "# Verify the results\n",
    "summ=clients[1].X\n",
    "from operator import add\n",
    "for i in range(1, nclientsnew):\n",
    "    summ = list(map(add, summ, clients[i+1].X))\n",
    "\n",
    "\n",
    "print(\"Verify: \", sumX  == summ )\n"
   ]
  }
 ],
 "metadata": {
  "interpreter": {
   "hash": "e7370f93d1d0cde622a1f8e1c04877d8463912d04d973331ad4851f04de6915a"
  },
  "kernelspec": {
   "display_name": "Python 3.10.1 64-bit",
   "language": "python",
   "name": "python3"
  },
  "language_info": {
   "codemirror_mode": {
    "name": "ipython",
    "version": 3
   },
   "file_extension": ".py",
   "mimetype": "text/x-python",
   "name": "python",
   "nbconvert_exporter": "python",
   "pygments_lexer": "ipython3",
   "version": "3.8.12"
  },
  "orig_nbformat": 4
 },
 "nbformat": 4,
 "nbformat_minor": 2
}
